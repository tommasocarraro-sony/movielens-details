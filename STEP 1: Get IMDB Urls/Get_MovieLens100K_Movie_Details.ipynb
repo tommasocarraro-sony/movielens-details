{
 "nbformat": 4,
 "nbformat_minor": 0,
 "metadata": {
  "colab": {
   "name": "Get MovieLens100K Movie Details",
   "provenance": []
  },
  "kernelspec": {
   "display_name": "Python 3",
   "name": "python3"
  },
  "language_info": {
   "name": "python"
  }
 },
 "cells": [
  {
   "cell_type": "code",
   "metadata": {
    "colab": {
     "base_uri": "https://localhost:8080/"
    },
    "id": "C3pSb_cD-v98",
    "outputId": "522298f0-b904-4026-aa3c-3212a0275b8d"
   },
   "source": [
    "!wget https://raw.githubusercontent.com/babu-thomas/movielens-posters/master/movie_url.csv\n",
    "!wget https://raw.githubusercontent.com/babu-thomas/movielens-posters/master/movie_poster.csv"
   ],
   "execution_count": 1,
   "outputs": []
  },
  {
   "cell_type": "code",
   "metadata": {
    "id": "H3mjdXm3_2qC"
   },
   "source": [
    "import pandas as pd\n",
    "import numpy as np"
   ],
   "execution_count": 2,
   "outputs": []
  },
  {
   "cell_type": "code",
   "metadata": {
    "id": "5lp84qpl7WBm"
   },
   "source": [
    "poster_df = pd.read_csv('movie_poster.csv', header=None)"
   ],
   "execution_count": 3,
   "outputs": []
  },
  {
   "cell_type": "code",
   "metadata": {
    "colab": {
     "base_uri": "https://localhost:8080/",
     "height": 235
    },
    "id": "MT2jM8ECBgnN",
    "outputId": "3c249a34-078e-4058-9ee3-9c57801c736a"
   },
   "source": [
    "poster_df.set_index(0, inplace=True)\n",
    "poster_df.head()"
   ],
   "execution_count": 4,
   "outputs": []
  },
  {
   "cell_type": "code",
   "metadata": {
    "colab": {
     "base_uri": "https://localhost:8080/",
     "height": 450
    },
    "id": "hJDt0lDlDpNn",
    "outputId": "dba1a5ad-76be-4847-d38c-3e90963530be"
   },
   "source": [
    "url_df = pd.read_csv('movie_url.csv', header=None)\n",
    "url_df.set_index(0, inplace=True)\n",
    "url_df"
   ],
   "execution_count": 14,
   "outputs": []
  },
  {
   "cell_type": "code",
   "metadata": {
    "id": "_RdYT7ToBqkM"
   },
   "source": [
    "import tensorflow_datasets as tfds\n",
    "\n",
    "movie_ds = tfds.load(\"movielens/100k-movies\", split=\"train\")"
   ],
   "execution_count": 5,
   "outputs": []
  },
  {
   "cell_type": "code",
   "metadata": {
    "colab": {
     "base_uri": "https://localhost:8080/"
    },
    "id": "V7Y58abMEu9P",
    "outputId": "930cda85-4b48-4864-f33b-1fc18bb1581d"
   },
   "source": [
    "movie_arr = np.vstack(tfds.as_numpy(movie_ds))\n",
    "\n",
    "def get_poster_url(features):\n",
    "    features = features[0]\n",
    "    movie_id = int(features['movie_id'])\n",
    "    poster_url = None\n",
    "    movie_url = None\n",
    "    \n",
    "    if movie_id in poster_df.index:\n",
    "        poster_url = poster_df.loc[movie_id][1]\n",
    "    if movie_id in url_df.index:\n",
    "        movie_url= url_df.loc[movie_id][1]\n",
    "    return {**features,\n",
    "            'poster_url': poster_url,\n",
    "            'movie_url': movie_url}\n",
    "\n",
    "movie_arr = np.array(list(map(get_poster_url, movie_arr)))\n",
    "movie_arr = [arr for arr in movie_arr if arr != None]"
   ],
   "execution_count": 20,
   "outputs": []
  },
  {
   "cell_type": "code",
   "metadata": {
    "id": "FM-rhUv5GpbJ"
   },
   "source": [
    "movie_df = pd.DataFrame(movie_arr)\n",
    "movie_df.dropna(axis=0, inplace=True)"
   ],
   "execution_count": 24,
   "outputs": []
  },
  {
   "cell_type": "code",
   "metadata": {
    "id": "q12QzzAACVYl"
   },
   "source": [
    "movie_df['movie_id'] = movie_df['movie_id'].apply(lambda x: x.decode('utf-8'))\n",
    "movie_df['movie_title'] = movie_df['movie_title'].apply(lambda x: x.decode('utf-8'))"
   ],
   "execution_count": 25,
   "outputs": []
  },
  {
   "cell_type": "code",
   "metadata": {
    "colab": {
     "base_uri": "https://localhost:8080/",
     "height": 606
    },
    "id": "AfXz53OCCmJb",
    "outputId": "b00b515c-88f1-43b8-b0b6-f4f0a0295715"
   },
   "source": [
    "movie_df"
   ],
   "execution_count": 29,
   "outputs": []
  },
  {
   "cell_type": "code",
   "metadata": {
    "colab": {
     "base_uri": "https://localhost:8080/"
    },
    "id": "IqR7i0hLBaeh",
    "outputId": "48282d8b-b6dd-491a-fde0-2c708ccf32aa"
   },
   "source": [
    "movie_df.isnull().sum()"
   ],
   "execution_count": 30,
   "outputs": []
  },
  {
   "cell_type": "code",
   "metadata": {
    "id": "KdOAeNro8dvn"
   },
   "source": [
    "movie_df.to_csv('movielens_poster.csv', index=False)"
   ],
   "execution_count": 31,
   "outputs": []
  },
  {
   "cell_type": "code",
   "metadata": {
    "id": "YRDMQr03GiaP"
   },
   "source": [
    ""
   ],
   "execution_count": 28,
   "outputs": []
  }
 ]
}
